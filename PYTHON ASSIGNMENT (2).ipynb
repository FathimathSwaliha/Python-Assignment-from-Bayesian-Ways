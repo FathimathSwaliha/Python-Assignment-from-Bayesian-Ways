{
 "cells": [
  {
   "cell_type": "code",
   "execution_count": null,
   "id": "e7b65c0c-517f-4228-a4cf-10f84306e619",
   "metadata": {
    "tags": []
   },
   "outputs": [
    {
     "name": "stdout",
     "output_type": "stream",
     "text": [
      "Data point 1 : 43706.9275\n",
      "Data point 2 : 43675.8681\n",
      "Data point 3 : 43638.1299\n",
      "Data point 4 : 43570.1293\n",
      "Data point 5 : 43370.9035\n",
      "Data point 6 : 43393.2044\n",
      "Data point 7 : 43336.0942\n",
      "Data point 8 : 43362.3689\n",
      "Data point 9 : 43345.8845\n",
      "Data point 10 : 43344.3011\n",
      "Data point 11 : 43330.2872\n",
      "Data point 12 : 43262.7825\n",
      "Data point 13 : 43275.7776\n",
      "Data point 14 : 43344.5464\n",
      "Data point 15 : 43248.3363\n",
      "Data point 16 : 43107.8892\n",
      "Data point 17 : 42732.1457\n",
      "Data point 18 : 41287.5239\n",
      "Data point 19 : 42004.9824\n",
      "Data point 20 : 41955.4214\n",
      "Data point 21 : 42233.2053\n",
      "Data point 22 : 42172.7004\n",
      "Data point 23 : 42114.4919\n",
      "Data point 24 : 41980.6127\n",
      "Data point 25 : 41799.2115\n",
      "Data point 26 : 42050.36\n",
      "Data point 27 : 41931.8552\n",
      "Data point 28 : 41947.0563\n",
      "Data point 29 : 42095.5168\n",
      "Data point 30 : 42176.5577\n",
      "Data point 31 : 42192.7188\n",
      "Data point 32 : 42193.7047\n",
      "Data point 33 : 42294.0151\n",
      "Data point 34 : 42371.707\n",
      "Data point 35 : 42440.4646\n",
      "Data point 36 : 42437.436\n",
      "Data point 37 : 42380.3314\n",
      "Data point 38 : 42347.1235\n",
      "Data point 39 : 42335.7517\n",
      "Data point 40 : 42269.2232\n",
      "Data point 41 : 42274.5357\n",
      "Data point 42 : 42187.8063\n",
      "Data point 43 : 42183.4122\n",
      "Data point 44 : 42096.9343\n",
      "Data point 45 : 42180.3009\n",
      "Data point 46 : 42096.2839\n",
      "Data point 47 : 42105.7355\n",
      "Data point 48 : 42159.3551\n",
      "Data point 49 : 42086.4334\n",
      "Data point 50 : 42167.5869\n",
      "Data point 51 : 42174.6905\n",
      "Data point 52 : 42166.5836\n",
      "Data point 53 : 42186.3955\n",
      "Data point 54 : 42184.8016\n",
      "Data point 55 : 42157.8211\n",
      "Data point 56 : 42004.3654\n",
      "Data point 57 : 41957.8178\n",
      "Data point 58 : 42007.3928\n",
      "Data point 59 : 41987.0793\n",
      "Data point 60 : 41881.0976\n",
      "Data point 61 : 41890.5137\n",
      "Data point 62 : 41936.0588\n",
      "Data point 63 : 42043.0011\n",
      "Data point 64 : 42040.0591\n",
      "Data point 65 : 42010.0927\n",
      "Data point 66 : 41919.8487\n",
      "Data point 67 : 41850.3163\n",
      "Data point 68 : 41846.0922\n",
      "Data point 69 : 41891.3828\n",
      "Data point 70 : 41878.0191\n",
      "Data point 71 : 41853.9946\n",
      "Data point 72 : 41907.0224\n",
      "Data point 73 : 41861.7473\n",
      "Data point 74 : 42071.5556\n",
      "Data point 75 : 42120.2433\n",
      "Data point 76 : 42190.5153\n",
      "Data point 77 : 42239.1769\n",
      "Data point 78 : 42243.3046\n",
      "Data point 79 : 42231.4584\n",
      "Data point 80 : 42161.8987\n",
      "Data point 81 : 42183.9979\n",
      "Data point 82 : 42162.4668\n",
      "Data point 83 : 42165.7997\n",
      "Data point 84 : 42137.1199\n",
      "Data point 85 : 42135.4048\n",
      "Data point 86 : 42112.995\n",
      "Data point 87 : 42120.2266\n",
      "Data point 88 : 42165.441\n",
      "Data point 89 : 42060.3614\n",
      "Data point 90 : 42032.5464\n",
      "Data point 91 : 42010.337\n",
      "Data point 92 : 42030.8031\n",
      "Data point 93 : 42119.331\n",
      "Data point 94 : 42146.5291\n",
      "Data point 95 : 42162.2211\n",
      "Data point 96 : 42184.6185\n",
      "Data point 97 : 42242.1295\n",
      "Data point 98 : 42210.9229\n",
      "Data point 99 : 42234.7416\n",
      "Data point 100 : 42204.8034\n",
      "Data point 101 : 42214.7078\n",
      "Data point 102 : 42278.7373\n",
      "Data point 103 : 42330.7205\n",
      "Data point 104 : 42309.3147\n",
      "Data point 105 : 42321.1154\n",
      "Data point 106 : 42378.5459\n",
      "Data point 107 : 42371.2245\n",
      "Data point 108 : 42361.9474\n",
      "Data point 109 : 42330.4055\n",
      "Data point 110 : 42313.4381\n",
      "Data point 111 : 42365.9867\n",
      "Data point 112 : 42385.6077\n",
      "Data point 113 : 42426.2605\n",
      "Data point 114 : 42405.5796\n",
      "Data point 115 : 42393.9465\n",
      "Data point 116 : 42377.0524\n",
      "Data point 117 : 42358\n",
      "Data point 118 : 42394.2748\n",
      "Data point 119 : 42383.0678\n",
      "Data point 120 : 42360.6872\n",
      "Data point 121 : 42387.3069\n",
      "Data point 122 : 42395.1162\n",
      "Data point 123 : 42390.5746\n",
      "Data point 124 : 42412.5392\n",
      "Data point 125 : 42404.0262\n",
      "Data point 126 : 42436.6326\n",
      "Data point 127 : 42444.9311\n",
      "Data point 128 : 42345.7238\n",
      "Data point 129 : 42230.4833\n",
      "Data point 130 : 42265.4253\n",
      "Data point 131 : 42338.4661\n",
      "Data point 132 : 42337.2718\n",
      "Data point 133 : 42330.848\n",
      "Data point 134 : 42330.0729\n",
      "Data point 135 : 42349.6381\n",
      "Data point 136 : 42326.8031\n",
      "Data point 137 : 42321.169\n",
      "Data point 138 : 42356.1207\n",
      "Data point 139 : 42367.4632\n",
      "Data point 140 : 42324.2861\n",
      "Data point 141 : 42289.5643\n",
      "Data point 142 : 42265.9028\n",
      "Data point 143 : 42229.9851\n",
      "Data point 144 : 42214.9199\n",
      "Data point 145 : 42217.9486\n",
      "Data point 146 : 42198.2352\n",
      "Data point 147 : 42212.2633\n",
      "Data point 148 : 42233.6726\n",
      "Data point 149 : 42227.6311\n",
      "Data point 150 : 42210.3208\n",
      "Data point 151 : 42213.151\n",
      "Data point 152 : 42188.4395\n",
      "Data point 153 : 42147.5451\n",
      "Data point 154 : 42123.4289\n",
      "Data point 155 : 42044.8886\n",
      "Data point 156 : 42064.7569\n",
      "Data point 157 : 41914.5956\n",
      "Data point 158 : 42102.2082\n",
      "Data point 159 : 42012.5633\n",
      "Data point 160 : 41998.4493\n",
      "Data point 161 : 41968.0577\n",
      "Data point 162 : 41953.7434\n",
      "Data point 163 : 41879.2976\n",
      "Data point 164 : 41874.2617\n",
      "Data point 165 : 41884.0112\n",
      "Data point 166 : 41858.2992\n",
      "Data point 167 : 41974.1023\n",
      "Data point 168 : 41957.1391\n",
      "Data point 169 : 41918.3723\n",
      "Data point 170 : 41908.5279\n",
      "Data point 171 : 41857.753\n",
      "Data point 172 : 41842.3853\n",
      "Data point 173 : 41842.4565\n",
      "Data point 174 : 41965.4857\n",
      "Data point 175 : 41951.8103\n",
      "Data point 176 : 41918.1178\n",
      "Data point 177 : 41872.9443\n",
      "Data point 178 : 41889.1774\n",
      "Data point 179 : 41855.3694\n",
      "Data point 180 : 41729.3638\n",
      "Data point 181 : 41799.302\n",
      "Data point 182 : 41831.331\n",
      "Data point 183 : 41786.3963\n",
      "Data point 184 : 41684.722\n",
      "Data point 185 : 41656.6579\n",
      "Data point 186 : 41572.1388\n",
      "Data point 187 : 41489.857\n",
      "Data point 188 : 41626.1032\n",
      "Data point 189 : 41685.8484\n",
      "Data point 190 : 41670.6014\n",
      "Data point 191 : 41782.9446\n",
      "Data point 192 : 41780.7445\n",
      "Data point 193 : 41643.8851\n",
      "Data point 194 : 41678.8556\n",
      "Data point 195 : 41752.7671\n",
      "Data point 196 : 41693.8467\n",
      "Data point 197 : 41595.1683\n",
      "Data point 198 : 41652.155\n",
      "Data point 199 : 41569.8074\n",
      "Data point 200 : 41583.0372\n",
      "Data point 201 : 41586.0047\n",
      "Data point 202 : 41549.3343\n",
      "Data point 203 : 41577.8217\n",
      "Data point 204 : 41515.3169\n",
      "Data point 205 : 41416.1485\n",
      "Data point 206 : 41305.0591\n",
      "Data point 207 : 41211.0612\n",
      "Data point 208 : 41189.4954\n",
      "Data point 209 : 41025.7817\n",
      "Data point 210 : 41023.2127\n",
      "Data point 211 : 41083.5186\n",
      "Data point 212 : 40869.6157\n",
      "Data point 213 : 40629.7243\n",
      "Data point 214 : 40786.5081\n",
      "Data point 215 : 40889.8565\n",
      "Data point 216 : 40738.4819\n",
      "Data point 217 : 40943.5308\n",
      "Data point 218 : 40965.0676\n",
      "Data point 219 : 40967.7234\n",
      "Data point 220 : 41048.0194\n",
      "Data point 221 : 40902.25\n",
      "Data point 222 : 40816.2004\n",
      "Data point 223 : 40594.6953\n",
      "Data point 224 : 40524.2875\n",
      "Data point 225 : 40565.6356\n",
      "Data point 226 : 40553.6976\n",
      "Data point 227 : 40234.7201\n",
      "Data point 228 : 40508.4385\n",
      "Data point 229 : 40694.4765\n",
      "Data point 230 : 40665.7541\n",
      "Data point 231 : 40703.3966\n",
      "Data point 232 : 40726.3546\n",
      "Data point 233 : 40547.5212\n",
      "Data point 234 : 40658.6139\n",
      "Data point 235 : 40687.9851\n",
      "Data point 236 : 40579.503\n",
      "Data point 237 : 40658.7493\n",
      "Data point 238 : 40560.3815\n",
      "Data point 239 : 40605.6894\n",
      "Data point 240 : 40710.2499\n",
      "Data point 241 : 40808.5981\n",
      "Data point 242 : 40794.1008\n",
      "Data point 243 : 40843.9689\n",
      "Data point 244 : 40916.293\n",
      "Data point 245 : 41028.9066\n",
      "Data point 246 : 41169.8202\n",
      "Data point 247 : 41064.8072\n",
      "Data point 248 : 41088.4397\n",
      "Data point 249 : 41127.0785\n",
      "Data point 250 : 41150.6151\n",
      "Data point 251 : 41154.5106\n",
      "Data point 252 : 41102.9115\n",
      "Data point 253 : 41092.483\n",
      "Data point 254 : 41123.8452\n",
      "Data point 255 : 41169.7393\n",
      "Data point 256 : 41206.9185\n",
      "Data point 257 : 41161.598\n",
      "Data point 258 : 41163.6681\n",
      "Data point 259 : 41266.6324\n",
      "Data point 260 : 41260.3621\n",
      "Data point 261 : 41243.5704\n",
      "Data point 262 : 41246.0493\n",
      "Data point 263 : 41249.296\n",
      "Data point 264 : 41285.0718\n",
      "Data point 265 : 41313.0875\n",
      "Data point 266 : 41309.6895\n",
      "Data point 267 : 41251.5223\n",
      "Data point 268 : 41143.9288\n",
      "Data point 269 : 41174.8884\n",
      "Data point 270 : 41173.8165\n",
      "Data point 271 : 41200.9693\n",
      "Data point 272 : 41175.2492\n",
      "Data point 273 : 41182.4879\n",
      "Data point 274 : 41234.7377\n",
      "Data point 275 : 41192.9933\n",
      "Data point 276 : 41231.363\n",
      "Data point 277 : 41204.0949\n",
      "Data point 278 : 41217.3362\n",
      "Data point 279 : 41229.6404\n",
      "Data point 280 : 41220.058\n",
      "Data point 281 : 41196.3125\n",
      "Data point 282 : 41200.963\n",
      "Data point 283 : 41362.6968\n",
      "Data point 284 : 41646.7651\n",
      "Data point 285 : 41587.0362\n",
      "Data point 286 : 41502.1062\n",
      "Data point 287 : 41597.6989\n",
      "Data point 288 : 41585.1008\n",
      "Data point 289 : 41667.8271\n",
      "Data point 290 : 41723.3334\n",
      "Data point 291 : 41689.377\n",
      "Data point 292 : 41694.491\n",
      "Data point 293 : 41740.9802\n",
      "Data point 294 : 41808.9483\n",
      "Data point 295 : 41748.4508\n",
      "Data point 296 : 41645.8135\n",
      "Data point 297 : 41673.562\n",
      "Data point 298 : 41678.5513\n",
      "Data point 299 : 41682.1979\n",
      "Data point 300 : 41590.7916\n"
     ]
    }
   ],
   "source": [
    "import requests\n",
    "import time\n",
    "\n",
    "def fetch_bitcoin_price():\n",
    "    url = \"https://api.coindesk.com/v1/bpi/currentprice.json\"\n",
    "    response = requests.get(url)\n",
    "    data = response.json()\n",
    "    return data['bpi']['USD']['rate_float']\n",
    "\n",
    "\n",
    "def collect_data():\n",
    "    data_points = []\n",
    "    previous_data_point = None\n",
    "    count = 0\n",
    "    while count < 300:\n",
    "        usd_price = fetch_bitcoin_price()\n",
    "        if usd_price != previous_data_point:\n",
    "            data_points.append(usd_price)\n",
    "            print(\"Data point\", len(data_points), \":\", usd_price)\n",
    "            previous_data_point = usd_price\n",
    "            count += 1\n",
    "        time.sleep(300)\n",
    "    data_points.sort()\n",
    "    print(\"highest price is\",data_points[-1])\n",
    "    print(\"lowest price is\",data_points[0])\n",
    "\n",
    "\n",
    "collect_data()"
   ]
  },
  {
   "cell_type": "code",
   "execution_count": 7,
   "id": "5ad9c861-345c-49c1-90d2-d9c3b08b9128",
   "metadata": {},
   "outputs": [
    {
     "name": "stdin",
     "output_type": "stream",
     "text": [
      "Enter the string: Naan\n"
     ]
    },
    {
     "name": "stdout",
     "output_type": "stream",
     "text": [
      "True\n"
     ]
    }
   ],
   "source": [
    "s=str(input('Enter the string:'))\n",
    "s=s.lower()\n",
    "reverse=s[::-1]\n",
    "if s==reverse:\n",
    "  print(True)\n",
    "else:\n",
    "  print(False)"
   ]
  },
  {
   "cell_type": "code",
   "execution_count": 1,
   "id": "519f77d4-ec6c-4a4e-8671-a4c881cbfe26",
   "metadata": {},
   "outputs": [
    {
     "name": "stdin",
     "output_type": "stream",
     "text": [
      "Input: ABCDCDC\n",
      "Pattern: CD\n"
     ]
    },
    {
     "data": {
      "text/plain": [
       "2"
      ]
     },
     "execution_count": 1,
     "metadata": {},
     "output_type": "execute_result"
    }
   ],
   "source": [
    "Input=str(input(\"Input:\"))\n",
    "Pattern=str(input(\"Pattern:\"))\n",
    "output=Input.count(Pattern)\n",
    "output"
   ]
  },
  {
   "cell_type": "code",
   "execution_count": 3,
   "id": "113afa6d-ec53-4387-b291-47c1ba083afd",
   "metadata": {},
   "outputs": [
    {
     "name": "stdout",
     "output_type": "stream",
     "text": [
      "Game 1 :\n"
     ]
    },
    {
     "name": "stdin",
     "output_type": "stream",
     "text": [
      "Player1: R\n",
      "Player2: P\n"
     ]
    },
    {
     "name": "stdout",
     "output_type": "stream",
     "text": [
      "player2 wins\n",
      "Game 2 :\n"
     ]
    },
    {
     "name": "stdin",
     "output_type": "stream",
     "text": [
      "Player1: R\n",
      "Player2: S\n"
     ]
    },
    {
     "name": "stdout",
     "output_type": "stream",
     "text": [
      "player1 wins\n",
      "Game 3 :\n"
     ]
    },
    {
     "name": "stdin",
     "output_type": "stream",
     "text": [
      "Player1: R\n",
      "Player2: R\n"
     ]
    },
    {
     "name": "stdout",
     "output_type": "stream",
     "text": [
      "Draw\n",
      "Game 4 :\n"
     ]
    },
    {
     "name": "stdin",
     "output_type": "stream",
     "text": [
      "Player1: P\n",
      "Player2: S\n"
     ]
    },
    {
     "name": "stdout",
     "output_type": "stream",
     "text": [
      "player2 wins\n",
      "Game 5 :\n"
     ]
    },
    {
     "name": "stdin",
     "output_type": "stream",
     "text": [
      "Player1: P\n",
      "Player2: R\n"
     ]
    },
    {
     "name": "stdout",
     "output_type": "stream",
     "text": [
      "player1 wins\n",
      "Game 6 :\n"
     ]
    },
    {
     "name": "stdin",
     "output_type": "stream",
     "text": [
      "Player1: P\n",
      "Player2: P\n"
     ]
    },
    {
     "name": "stdout",
     "output_type": "stream",
     "text": [
      "Draw\n",
      "Game 7 :\n"
     ]
    },
    {
     "name": "stdin",
     "output_type": "stream",
     "text": [
      "Player1: S\n",
      "Player2: P\n"
     ]
    },
    {
     "name": "stdout",
     "output_type": "stream",
     "text": [
      "player1 wins\n",
      "Game 8 :\n"
     ]
    },
    {
     "name": "stdin",
     "output_type": "stream",
     "text": [
      "Player1: S\n",
      "Player2: R\n"
     ]
    },
    {
     "name": "stdout",
     "output_type": "stream",
     "text": [
      "player2 wins\n",
      "Game 9 :\n"
     ]
    },
    {
     "name": "stdin",
     "output_type": "stream",
     "text": [
      "Player1: S\n",
      "Player2: S\n"
     ]
    },
    {
     "name": "stdout",
     "output_type": "stream",
     "text": [
      "Draw\n",
      "Game 10 :\n"
     ]
    },
    {
     "name": "stdin",
     "output_type": "stream",
     "text": [
      "Player1: P\n",
      "Player2: R\n"
     ]
    },
    {
     "name": "stdout",
     "output_type": "stream",
     "text": [
      "player1 wins\n",
      "Final Winner:Player1\n"
     ]
    }
   ],
   "source": [
    "A=[]\n",
    "for i in range(1,11):\n",
    "  print(\"Game\",i,\":\")\n",
    "  player1=str(input(\"Player1:\"))\n",
    "  player2=str(input(\"Player2:\"))\n",
    "  if (player1==\"R\" and player2==\"S\"):\n",
    "    print(\"player1 wins\")\n",
    "    A.append(1)\n",
    "\n",
    "  elif (player1==\"P\" and player2==\"R\"):\n",
    "   print(\"player1 wins\")\n",
    "   A.append(1)\n",
    "  elif (player1==\"S\" and player2==\"P\"):\n",
    "    print(\"player1 wins\")\n",
    "    A.append(1)\n",
    "  elif (player1==player2):\n",
    "    print(\"Draw\")\n",
    "    A.append(0)\n",
    "  else:\n",
    "    print(\"player2 wins\")\n",
    "    A.append(2)\n",
    "Player1score=A.count(1)\n",
    "Player2score=A.count(2)\n",
    "if Player1score > Player2score:\n",
    "  print(\"Final Winner:Player1\")\n",
    "else:\n",
    "    print(\"Final Winner:Player2\")\n",
    "\n"
   ]
  }
 ],
 "metadata": {
  "kernelspec": {
   "display_name": "anaconda-panel-2023.05-py310",
   "language": "python",
   "name": "conda-env-anaconda-panel-2023.05-py310-py"
  },
  "language_info": {
   "codemirror_mode": {
    "name": "ipython",
    "version": 3
   },
   "file_extension": ".py",
   "mimetype": "text/x-python",
   "name": "python",
   "nbconvert_exporter": "python",
   "pygments_lexer": "ipython3",
   "version": "3.11.5"
  }
 },
 "nbformat": 4,
 "nbformat_minor": 5
}
